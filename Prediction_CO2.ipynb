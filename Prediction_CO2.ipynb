{
 "cells": [
  {
   "cell_type": "markdown",
   "id": "03daec40",
   "metadata": {},
   "source": [
    "## Notebook 2: Apprentissage automatique, Regression: Polution CO2"
   ]
  },
  {
   "cell_type": "markdown",
   "id": "2e082814",
   "metadata": {},
   "source": [
    "#### Importation des librairies"
   ]
  },
  {
   "cell_type": "code",
   "execution_count": 64,
   "id": "82bfb92a",
   "metadata": {},
   "outputs": [],
   "source": [
    "import pandas as pd\n",
    "import numpy as np\n",
    "import streamlit as st\n",
    "#-------------------------------------------------\n",
    "import sklearn\n",
    "from sklearn.model_selection import train_test_split\n",
    "from sklearn.impute import KNNImputer\n",
    "from sklearn.metrics import mean_squared_error, mean_absolute_error, r2_score\n",
    "\n",
    "#-------------------------------------------------\n",
    "from sklearn.pipeline import Pipeline\n",
    "from sklearn.pipeline import make_pipeline\n",
    "\n",
    "from sklearn.preprocessing import OneHotEncoder, StandardScaler, MinMaxScaler, LabelEncoder\n",
    "from sklearn.compose import ColumnTransformer\n",
    "from sklearn.compose import TransformedTargetRegressor, make_column_transformer\n",
    "\n",
    "#--------------------------------------------------------\n",
    "from sklearn.dummy import DummyRegressor\n",
    "from sklearn.linear_model import LinearRegression, SGDRegressor\n",
    "\n",
    "#--------------------------------------------------------\n",
    "from sklearn.ensemble import RandomForestRegressor, GradientBoostingRegressor\n",
    "from sklearn.inspection import permutation_importance\n",
    "#------------------------------------------------\n",
    "from xgboost import XGBRegressor\n",
    "\n",
    "#-----------------------------------------------------------\n",
    "from sklearn.model_selection import GridSearchCV"
   ]
  },
  {
   "cell_type": "markdown",
   "id": "dbeb2921",
   "metadata": {},
   "source": [
    "## Checklist\n",
    "\n",
    "Depuis 2001, **l’ADEME** acquiert tous les ans ces données auprès de **l’Union Technique de l’Automobile du motocycle et du Cycle UTAC** (en charge de l’homologation des véhicules avant leur mise en vente) en accord avec le ministère du développement durable.\n",
    "Pour chaque véhicule les données d’origine (transmises par l’Utac) sont les suivantes :\n",
    "\n",
    "* **Les consommations de carburant**\n",
    "\n",
    "* **Les émissions de dioxyde de carbone (CO2)**\n",
    "\n",
    "* **Les émissions des polluants de l’air** (réglementés dans le cadre de la norme Euro)\n",
    "\n",
    "* **L’ensemble des caractéristiques techniques des véhicules** (gammes, marques, modèles, n° de CNIT, type d’énergie ...)\n",
    "\n",
    "\n",
    "\n",
    "# L'inventaire des varaibles pertinentes:\n",
    "\n",
    "Les données comprenent des variables pertinentes suivantes:\n",
    "\n",
    "* **lib_mrq_utac**: La marque, il y'a 12.\n",
    "\n",
    "* **lib_mod**: Le modèle commerciale, il y'a 20.\n",
    "\n",
    "* **cod_cbr**: Le type de carburant, il y a 5.\n",
    "\n",
    "* **hybride**: Information permettant d’identifier les véhicules hybrides (O/N)\n",
    "\n",
    "* **puiss_max** : Puissance maximale\n",
    "\n",
    "* **typ_boite_nb_rapp**: Type boite de vitesse et le nombre de rapport.\n",
    "\n",
    "* **conso_urb**: Consommation urbaine de carburant (en l/100km),\n",
    "\n",
    "* **conso_exurb**: consommation extra urbaine de carburant (en l/100km),\n",
    "\n",
    "* **conso_mixte**: Consommation mixte de carburant (en l/100km),\n",
    "\n",
    "* **co2**: Emission de CO2 (en g/km),\n",
    "\n",
    "* **masse_ordma_min**: Masse en ordre de marche mini\n",
    "\n",
    "* **masse_ordma_max**: Masse en ordre de marche max\n",
    " \n",
    "* **Carrosserie**: Carrosserie\n",
    "\n",
    "* **gamme**: Gamme du véhicule\n",
    "\n",
    "\n",
    "\n",
    "# Objectif\n",
    "\n",
    "Notre objectif majeur dans ce notebook 2 est de :\n",
    "\n",
    "Prédire les emisisions de **CO2** des vehicules en fonction de certaines informations (Variables explicatives)\n",
    "\n",
    "* En utilisant 4 à 5 modéles différents\n",
    "\n",
    "* En comparant  les scores\n",
    "    \n",
    "* En choissisant le meilleur modèle\n",
    "\n",
    "\n",
    "# Description des données\n",
    "\n",
    "Lien vers les données: https://www.data.gouv.fr/fr/datasets/emissions-de-co2-et-de-polluants-des-vehicules-commercialises-en-france/\n"
   ]
  },
  {
   "cell_type": "markdown",
   "id": "4aa43bf0",
   "metadata": {},
   "source": [
    "### Chargement, lecture, apercu et infos des données"
   ]
  },
  {
   "cell_type": "code",
   "execution_count": 65,
   "id": "564f490c",
   "metadata": {},
   "outputs": [],
   "source": [
    "data_model = pd.read_csv(\"data_model.csv\")"
   ]
  },
  {
   "cell_type": "code",
   "execution_count": 66,
   "id": "ad4b2087",
   "metadata": {},
   "outputs": [],
   "source": [
    "encoder = LabelEncoder()\n",
    "data_model[\"Carrosserie\"] = encoder.fit_transform(data_model[\"Carrosserie\"])"
   ]
  },
  {
   "cell_type": "markdown",
   "id": "bd400b03",
   "metadata": {},
   "source": [
    "### Selectionner les feautures les plus importans"
   ]
  },
  {
   "cell_type": "code",
   "execution_count": 67,
   "id": "3f815f33",
   "metadata": {},
   "outputs": [],
   "source": [
    "New_Data = data_model[['Carrosserie', 'masse_ordma_min', 'masse_ordma_max', 'co2']]"
   ]
  },
  {
   "cell_type": "code",
   "execution_count": 68,
   "id": "f1bbc7ee",
   "metadata": {},
   "outputs": [],
   "source": [
    "y = New_Data['co2']\n",
    "X = New_Data.drop(['co2'] ,axis =1)"
   ]
  },
  {
   "cell_type": "markdown",
   "id": "0587cf73",
   "metadata": {},
   "source": [
    "### Traiter la colonne Carrosserie"
   ]
  },
  {
   "cell_type": "code",
   "execution_count": null,
   "id": "d9419b25",
   "metadata": {},
   "outputs": [],
   "source": []
  },
  {
   "cell_type": "markdown",
   "id": "2254f351",
   "metadata": {},
   "source": [
    "### Prediction de CO2\n",
    "    \n",
    "Pour chacun de nos modèles:\n",
    "   * **DummyRegressor**,\n",
    "   * **LinearRegression**, \n",
    "   * **SGDRegressor**, \n",
    "   * **RandomForestRegressor**,\n",
    "   * **GradientBoostingRegressor**,\n",
    "   * **XGBRegressor**, \n",
    "    \n",
    "Nous allons predire le niveau d'émission de **Co2** puis établir une comparaison entre les performances de chaque modèle.\n",
    "\n",
    "    Appliquer un GridSearch pour optimiser les hyperparamètres de chaque modèle\n",
    "    Paramètrer dans GridSearch les scores qui sont adaptés à la régression (R2, MAE et RMSE)\n",
    "    Identifier le meilleur modèle"
   ]
  },
  {
   "cell_type": "code",
   "execution_count": 69,
   "id": "4a2b73a5",
   "metadata": {},
   "outputs": [
    {
     "name": "stdout",
     "output_type": "stream",
     "text": [
      "=============================================================\n",
      "Classifier 1: DummyRegressor\n",
      "best parameters: {'strategy': 'median'}\n",
      "best score: -0.21342788285930653\n",
      "=============================================================\n",
      "\n",
      "=============================================================\n",
      "Classifier 2: LinearRegression\n",
      "best parameters: {'fit_intercept': True}\n",
      "best score: 0.15675550225255272\n",
      "=============================================================\n",
      "\n"
     ]
    },
    {
     "name": "stdout",
     "output_type": "stream",
     "text": [
      "=============================================================\n",
      "Classifier 3: SGDRegressor\n",
      "best parameters: {'max_iter': 1100}\n",
      "best score: -5.779604858500127e+26\n",
      "=============================================================\n",
      "\n",
      "=============================================================\n",
      "Classifier 4: RandomForestRegressor\n",
      "best parameters: {'n_estimators': 50}\n",
      "best score: 0.24345933774717085\n",
      "=============================================================\n",
      "\n",
      "=============================================================\n",
      "Classifier 5: GradientBoostingRegressor\n",
      "best parameters: {'n_estimators': 50}\n",
      "best score: 0.28544965565149766\n",
      "=============================================================\n",
      "\n",
      "=============================================================\n",
      "Classifier 6: XGBRegressor\n",
      "best parameters: {'n_estimators': 50}\n",
      "best score: 0.30894490738898794\n",
      "=============================================================\n",
      "\n",
      "=============================================================\n",
      "The winner is XGBRegressor with a score of 0.30894490738898794 and parameters:\n",
      "{'n_estimators': 50}\n",
      "=============================================================\n"
     ]
    }
   ],
   "source": [
    "X_train, X_test, y_train, y_test = train_test_split(X, y, test_size=0.2)\n",
    "\n",
    "classifiers = [DummyRegressor(), LinearRegression(), SGDRegressor(), RandomForestRegressor(), GradientBoostingRegressor(), XGBRegressor()]\n",
    "\n",
    "param_grids = [{'strategy': [\"mean\", \"median\"]},\n",
    "               {\"fit_intercept\": [True, False]},\n",
    "               {\"max_iter\" : [1000, 900, 1100 ]},\n",
    "               {\"n_estimators\" : [50]},\n",
    "               {\"n_estimators\" : [50]},\n",
    "               {\"n_estimators\" : [50]}]\n",
    "\n",
    "# Create a list to store the results\n",
    "results = []\n",
    "\n",
    "# Loop through the classifiers and their hyperparameter grids\n",
    "for i, (clf, param_grid) in enumerate(zip(classifiers, param_grids)):\n",
    "    # Create the GridSearchCV object\n",
    "    grid_search = GridSearchCV(clf, param_grid, scoring='r2' , refit='r2')\n",
    "    \n",
    "    # Fit the GridSearchCV object to the data\n",
    "    grid_search.fit(X, y)\n",
    "    \n",
    "    # Store the results\n",
    "    results.append((type(clf).__name__, grid_search.best_params_, grid_search.best_score_))\n",
    "    \n",
    "    # Print the best parameters and scores\n",
    "    print(\"=============================================================\")\n",
    "    print(f\"Classifier {i+1}: {type(clf).__name__}\")\n",
    "    print(f\"best parameters: {grid_search.best_params_}\")\n",
    "    print(f\"best score: {grid_search.best_score_}\")\n",
    "    print(\"=============================================================\\n\")\n",
    "\n",
    "# Find the winner\n",
    "winner = max(results, key=lambda x: x[2])\n",
    "\n",
    "# Print the winner\n",
    "print(\"=============================================================\")\n",
    "print(f\"The winner is {winner[0]} with a score of {winner[2]} and parameters:\")\n",
    "print(winner[1])\n",
    "print(\"=============================================================\")"
   ]
  },
  {
   "cell_type": "markdown",
   "id": "65dd3d8a",
   "metadata": {},
   "source": [
    "### Application Web\n",
    "\n",
    "Développer une application Streamlit avec les options suivantes :\n",
    "\n",
    "    1- L'utilisateur doit selectionner le type du carrosserie à partire d'un menu déroulant\n",
    "    2- L'utilisateur doit saisir 'masse_ordma_min' et 'masse_ordma_max' dans deux champs de saisie différent\n",
    "    3- Programmer un boutton pour lancer la prédiction de CO2"
   ]
  },
  {
   "cell_type": "code",
   "execution_count": 70,
   "id": "a6b80f7e",
   "metadata": {},
   "outputs": [
    {
     "data": {
      "text/plain": [
       "['meilleur_modele.pkl']"
      ]
     },
     "execution_count": 70,
     "metadata": {},
     "output_type": "execute_result"
    }
   ],
   "source": [
    "import joblib\n",
    "\n",
    "# Entraînement du modèle (votre code d'entraînement ici)\n",
    "best_model = GradientBoostingRegressor(n_estimators=50)\n",
    "best_model.fit(X, y)\n",
    "\n",
    "# Sauvegarde du modèle dans un fichier\n",
    "joblib.dump(best_model, 'meilleur_modele.pkl')"
   ]
  }
 ],
 "metadata": {
  "kernelspec": {
   "display_name": "Python 3 (ipykernel)",
   "language": "python",
   "name": "python3"
  },
  "language_info": {
   "codemirror_mode": {
    "name": "ipython",
    "version": 3
   },
   "file_extension": ".py",
   "mimetype": "text/x-python",
   "name": "python",
   "nbconvert_exporter": "python",
   "pygments_lexer": "ipython3",
   "version": "3.8.10"
  }
 },
 "nbformat": 4,
 "nbformat_minor": 5
}
